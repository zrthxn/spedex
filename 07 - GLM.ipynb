{
 "cells": [
  {
   "cell_type": "markdown",
   "id": "3bbd8158-22d9-45e1-bdc1-b3c1490d409c",
   "metadata": {},
   "source": [
    "# Seminar 7 - Generalized Linear Models, Logistic Regression"
   ]
  },
  {
   "cell_type": "markdown",
   "id": "cd89244a-83ac-4bb4-9fe6-6474e8df4278",
   "metadata": {},
   "source": [
    "## Logistic Regression"
   ]
  },
  {
   "cell_type": "markdown",
   "id": "0edec9a4-a894-4f68-b05c-194548b1b32f",
   "metadata": {},
   "source": [
    "### Q1.1: Titanic Survival Dataset"
   ]
  },
  {
   "cell_type": "code",
   "execution_count": 41,
   "id": "6c10b6ca-ab8e-4d6e-bcad-50187689d3e0",
   "metadata": {},
   "outputs": [
    {
     "data": {
      "text/html": [
       "<table class=\"dataframe\">\n",
       "<caption>A data.frame: 6 × 4</caption>\n",
       "<thead>\n",
       "\t<tr><th></th><th scope=col>Class</th><th scope=col>Sex</th><th scope=col>Age</th><th scope=col>Survived</th></tr>\n",
       "\t<tr><th></th><th scope=col>&lt;fct&gt;</th><th scope=col>&lt;fct&gt;</th><th scope=col>&lt;fct&gt;</th><th scope=col>&lt;fct&gt;</th></tr>\n",
       "</thead>\n",
       "<tbody>\n",
       "\t<tr><th scope=row>3</th><td>3rd</td><td>Male</td><td>Child</td><td>No</td></tr>\n",
       "\t<tr><th scope=row>3.1</th><td>3rd</td><td>Male</td><td>Child</td><td>No</td></tr>\n",
       "\t<tr><th scope=row>3.2</th><td>3rd</td><td>Male</td><td>Child</td><td>No</td></tr>\n",
       "\t<tr><th scope=row>3.3</th><td>3rd</td><td>Male</td><td>Child</td><td>No</td></tr>\n",
       "\t<tr><th scope=row>3.4</th><td>3rd</td><td>Male</td><td>Child</td><td>No</td></tr>\n",
       "\t<tr><th scope=row>3.5</th><td>3rd</td><td>Male</td><td>Child</td><td>No</td></tr>\n",
       "</tbody>\n",
       "</table>\n"
      ],
      "text/latex": [
       "A data.frame: 6 × 4\n",
       "\\begin{tabular}{r|llll}\n",
       "  & Class & Sex & Age & Survived\\\\\n",
       "  & <fct> & <fct> & <fct> & <fct>\\\\\n",
       "\\hline\n",
       "\t3 & 3rd & Male & Child & No\\\\\n",
       "\t3.1 & 3rd & Male & Child & No\\\\\n",
       "\t3.2 & 3rd & Male & Child & No\\\\\n",
       "\t3.3 & 3rd & Male & Child & No\\\\\n",
       "\t3.4 & 3rd & Male & Child & No\\\\\n",
       "\t3.5 & 3rd & Male & Child & No\\\\\n",
       "\\end{tabular}\n"
      ],
      "text/markdown": [
       "\n",
       "A data.frame: 6 × 4\n",
       "\n",
       "| <!--/--> | Class &lt;fct&gt; | Sex &lt;fct&gt; | Age &lt;fct&gt; | Survived &lt;fct&gt; |\n",
       "|---|---|---|---|---|\n",
       "| 3 | 3rd | Male | Child | No |\n",
       "| 3.1 | 3rd | Male | Child | No |\n",
       "| 3.2 | 3rd | Male | Child | No |\n",
       "| 3.3 | 3rd | Male | Child | No |\n",
       "| 3.4 | 3rd | Male | Child | No |\n",
       "| 3.5 | 3rd | Male | Child | No |\n",
       "\n"
      ],
      "text/plain": [
       "    Class Sex  Age   Survived\n",
       "3   3rd   Male Child No      \n",
       "3.1 3rd   Male Child No      \n",
       "3.2 3rd   Male Child No      \n",
       "3.3 3rd   Male Child No      \n",
       "3.4 3rd   Male Child No      \n",
       "3.5 3rd   Male Child No      "
      ]
     },
     "metadata": {},
     "output_type": "display_data"
    }
   ],
   "source": [
    "titanic <- as.data.frame(Titanic)\n",
    "titanic <- titanic[rep(1:nrow(titanic), titanic$Freq), -5]\n",
    "head(titanic)\n",
    "\n",
    "# library(\"alr4\")\n",
    "# library(\"dplyr\")\n",
    "# titanic <- TitanicSurvival |> rename(\n",
    "#     Survived = survived,\n",
    "#     Sex = sex,\n",
    "#     Age = age,\n",
    "#     Class = passengerClass)\n",
    "# head(titanic)"
   ]
  },
  {
   "cell_type": "markdown",
   "id": "4a25ad84-ca99-4fd8-b92c-10c53ed6d137",
   "metadata": {},
   "source": [
    "a. Fit a logistic regression model with Sex, Age, and Class as explanatory variables."
   ]
  },
  {
   "cell_type": "code",
   "execution_count": 42,
   "id": "0cebed77-793c-4705-a4cf-8a80c9ca2fbc",
   "metadata": {},
   "outputs": [
    {
     "data": {
      "text/plain": [
       "\n",
       "Call:  glm(formula = Survived ~ Age + Class + Sex, family = \"binomial\", \n",
       "    data = titanic)\n",
       "\n",
       "Coefficients:\n",
       "(Intercept)     AgeAdult     Class2nd     Class3rd    ClassCrew    SexFemale  \n",
       "     0.6853      -1.0615      -1.0181      -1.7778      -0.8577       2.4201  \n",
       "\n",
       "Degrees of Freedom: 2200 Total (i.e. Null);  2195 Residual\n",
       "Null Deviance:\t    2769 \n",
       "Residual Deviance: 2210 \tAIC: 2222"
      ]
     },
     "metadata": {},
     "output_type": "display_data"
    }
   ],
   "source": [
    "glm(Survived ~ Age+Class+Sex, family=\"binomial\", titanic)"
   ]
  },
  {
   "cell_type": "markdown",
   "id": "f2963138-be94-4374-b1db-186a770dc718",
   "metadata": {},
   "source": [
    "b. Compare the odds of survival of the two genders. Which gender has a higher chance of survival? How many times higher?"
   ]
  },
  {
   "cell_type": "code",
   "execution_count": 44,
   "id": "19e5dff1-d3e6-4350-baee-4c08812cd5e3",
   "metadata": {},
   "outputs": [
    {
     "data": {
      "text/html": [
       "0.212016175621028"
      ],
      "text/latex": [
       "0.212016175621028"
      ],
      "text/markdown": [
       "0.212016175621028"
      ],
      "text/plain": [
       "[1] 0.2120162"
      ]
     },
     "metadata": {},
     "output_type": "display_data"
    },
    {
     "data": {
      "text/html": [
       "0.731914893617021"
      ],
      "text/latex": [
       "0.731914893617021"
      ],
      "text/markdown": [
       "0.731914893617021"
      ],
      "text/plain": [
       "[1] 0.7319149"
      ]
     },
     "metadata": {},
     "output_type": "display_data"
    }
   ],
   "source": [
    "odds <- function(df, sd) nrow(subset(df, sd)) / nrow(df)\n",
    "\n",
    "titanic_men = subset(titanic, titanic$Sex == \"Male\")\n",
    "odds(titanic_men, titanic_men$Survived == \"Yes\")\n",
    "\n",
    "titanic_women = subset(titanic, titanic$Sex == \"Female\")\n",
    "odds(titanic_women, titanic_women$Survived == \"Yes\")"
   ]
  },
  {
   "cell_type": "code",
   "execution_count": 45,
   "id": "0c47e75c-a560-4e8e-bf59-aeffd132c284",
   "metadata": {},
   "outputs": [
    {
     "data": {
      "text/html": [
       "3.45216534291843"
      ],
      "text/latex": [
       "3.45216534291843"
      ],
      "text/markdown": [
       "3.45216534291843"
      ],
      "text/plain": [
       "[1] 3.452165"
      ]
     },
     "metadata": {},
     "output_type": "display_data"
    }
   ],
   "source": [
    "odds(titanic_women, titanic_women$Survived == \"Yes\") /\n",
    "odds(titanic_men, titanic_men$Survived == \"Yes\")"
   ]
  },
  {
   "cell_type": "markdown",
   "id": "b09d92e1-6ab4-4ffb-af22-4fcf3d5e8077",
   "metadata": {},
   "source": [
    "c. Compute the odds of survival of each passenger class."
   ]
  },
  {
   "cell_type": "code",
   "execution_count": 61,
   "id": "e5039419-6116-49f7-9128-d6de476fd39d",
   "metadata": {},
   "outputs": [],
   "source": [
    "class_1 = subset(titanic, titanic$Class == \"1st\")\n",
    "class_2 = subset(titanic, titanic$Class == \"2nd\")\n",
    "class_3 = subset(titanic, titanic$Class == \"3rd\")\n",
    "class_c = subset(titanic, titanic$Class == \"Crew\")"
   ]
  },
  {
   "cell_type": "code",
   "execution_count": 62,
   "id": "75101dc5-8aff-4062-911c-c7276be6ef0c",
   "metadata": {},
   "outputs": [
    {
     "data": {
      "text/html": [
       "0.624615384615385"
      ],
      "text/latex": [
       "0.624615384615385"
      ],
      "text/markdown": [
       "0.624615384615385"
      ],
      "text/plain": [
       "[1] 0.6246154"
      ]
     },
     "metadata": {},
     "output_type": "display_data"
    },
    {
     "data": {
      "text/html": [
       "0.414035087719298"
      ],
      "text/latex": [
       "0.414035087719298"
      ],
      "text/markdown": [
       "0.414035087719298"
      ],
      "text/plain": [
       "[1] 0.4140351"
      ]
     },
     "metadata": {},
     "output_type": "display_data"
    },
    {
     "data": {
      "text/html": [
       "0.252124645892351"
      ],
      "text/latex": [
       "0.252124645892351"
      ],
      "text/markdown": [
       "0.252124645892351"
      ],
      "text/plain": [
       "[1] 0.2521246"
      ]
     },
     "metadata": {},
     "output_type": "display_data"
    },
    {
     "data": {
      "text/html": [
       "0.23954802259887"
      ],
      "text/latex": [
       "0.23954802259887"
      ],
      "text/markdown": [
       "0.23954802259887"
      ],
      "text/plain": [
       "[1] 0.239548"
      ]
     },
     "metadata": {},
     "output_type": "display_data"
    }
   ],
   "source": [
    "odds(class_1, class_1$Survived == \"Yes\")\n",
    "odds(class_2, class_2$Survived == \"Yes\")\n",
    "odds(class_3, class_3$Survived == \"Yes\")\n",
    "odds(class_c, class_c$Survived == \"Yes\")"
   ]
  },
  {
   "cell_type": "markdown",
   "id": "0ae00eea-c464-4456-a257-16855e62ccb2",
   "metadata": {},
   "source": [
    "e. Fit a logistic regression model with the same explanatory variables and two-way interaction\n",
    "between Class and Sex."
   ]
  },
  {
   "cell_type": "code",
   "execution_count": 49,
   "id": "71cc6f04-b110-4d69-94bd-3c19afdb14d6",
   "metadata": {},
   "outputs": [
    {
     "data": {
      "text/plain": [
       "\n",
       "Call:\n",
       "glm(formula = Survived ~ Age + Class + Sex + Class:Sex, family = \"binomial\", \n",
       "    data = titanic)\n",
       "\n",
       "Coefficients:\n",
       "                    Estimate Std. Error z value Pr(>|z|)    \n",
       "(Intercept)           0.3784     0.2734   1.384  0.16633    \n",
       "AgeAdult             -1.0537     0.2304  -4.573 4.81e-06 ***\n",
       "Class2nd             -1.2323     0.2688  -4.584 4.56e-06 ***\n",
       "Class3rd             -1.0229     0.1991  -5.139 2.77e-07 ***\n",
       "ClassCrew            -0.5746     0.1776  -3.235  0.00122 ** \n",
       "SexFemale             4.2331     0.5310   7.972 1.56e-15 ***\n",
       "Class2nd:SexFemale   -0.4483     0.6460  -0.694  0.48772    \n",
       "Class3rd:SexFemale   -2.8625     0.5633  -5.082 3.73e-07 ***\n",
       "ClassCrew:SexFemale  -1.0862     0.8197  -1.325  0.18516    \n",
       "---\n",
       "Signif. codes:  0 ‘***’ 0.001 ‘**’ 0.01 ‘*’ 0.05 ‘.’ 0.1 ‘ ’ 1\n",
       "\n",
       "(Dispersion parameter for binomial family taken to be 1)\n",
       "\n",
       "    Null deviance: 2769.5  on 2200  degrees of freedom\n",
       "Residual deviance: 2143.4  on 2192  degrees of freedom\n",
       "AIC: 2161.4\n",
       "\n",
       "Number of Fisher Scoring iterations: 6\n"
      ]
     },
     "metadata": {},
     "output_type": "display_data"
    }
   ],
   "source": [
    "m2 <- glm(Survived ~ Age+Class+Sex+Class:Sex, family=\"binomial\", titanic)\n",
    "summary(m2)"
   ]
  },
  {
   "cell_type": "code",
   "execution_count": 55,
   "id": "48636d1c-615a-4907-b316-d718ad4bd5fc",
   "metadata": {},
   "outputs": [],
   "source": [
    "# # Find optimal decision threshold using \n",
    "# # Confusion matrix and statistics\n",
    "# library(\"caret\")\n",
    "# th <- 0\n",
    "# high <- -Inf\n",
    "# for (t in c(0:1000)/1000) {\n",
    "#     pred <- predict(m2, newdata = titanic, type='response')\n",
    "#     pred <- factor(ifelse(pred > t, \"yes\", \"no\"))\n",
    "#     cm <- confusionMatrix(data=pred, reference=titanic$Survived)\n",
    "#     if (as.numeric(cm$overall[\"Accuracy\"]) >= high) {\n",
    "#         th <- t\n",
    "#         high <- as.numeric(cm$overall[\"Accuracy\"])\n",
    "#     }\n",
    "# }\n",
    "\n",
    "# th\n",
    "\n",
    "titanic_pr <- titanic\n",
    "titanic_pr$Survived <- predict(m2, newdata = titanic, type='response') > 0.593"
   ]
  },
  {
   "cell_type": "markdown",
   "id": "182b802a-9200-478a-8e5a-0571a507e802",
   "metadata": {},
   "source": [
    "f. Use the analysis of deviance to see that the second model fits better than the first one. Is\n",
    "the difference in fit significant?\n",
    "\n",
    "g.  Based on the second model,\n",
    "- Compute the difference in survival rates of two sexes.\n",
    "- Using an appropriate odds ratio, compare the odds of survival of males in the first class with those of males in the third class."
   ]
  },
  {
   "cell_type": "code",
   "execution_count": 56,
   "id": "826bd4c1-fc86-435c-a88d-df0ac2be0383",
   "metadata": {},
   "outputs": [
    {
     "data": {
      "text/html": [
       "0.00288850375505488"
      ],
      "text/latex": [
       "0.00288850375505488"
      ],
      "text/markdown": [
       "0.00288850375505488"
      ],
      "text/plain": [
       "[1] 0.002888504"
      ]
     },
     "metadata": {},
     "output_type": "display_data"
    },
    {
     "data": {
      "text/html": [
       "0.648936170212766"
      ],
      "text/latex": [
       "0.648936170212766"
      ],
      "text/markdown": [
       "0.648936170212766"
      ],
      "text/plain": [
       "[1] 0.6489362"
      ]
     },
     "metadata": {},
     "output_type": "display_data"
    }
   ],
   "source": [
    "titanic_pr_men = subset(titanic_pr, titanic_pr$Sex == \"Male\")\n",
    "titanic_pr_women = subset(titanic_pr, titanic_pr$Sex == \"Female\")\n",
    "\n",
    "odds(titanic_pr_men, titanic_pr_men$Survived == TRUE)\n",
    "odds(titanic_pr_women, titanic_pr_women$Survived == TRUE)"
   ]
  },
  {
   "cell_type": "code",
   "execution_count": 57,
   "id": "0e74293f-5cae-4365-a7e3-1be0db7e69b1",
   "metadata": {},
   "outputs": [
    {
     "data": {
      "text/html": [
       "0.0277777777777778"
      ],
      "text/latex": [
       "0.0277777777777778"
      ],
      "text/markdown": [
       "0.0277777777777778"
      ],
      "text/plain": [
       "[1] 0.02777778"
      ]
     },
     "metadata": {},
     "output_type": "display_data"
    },
    {
     "data": {
      "text/html": [
       "0"
      ],
      "text/latex": [
       "0"
      ],
      "text/markdown": [
       "0"
      ],
      "text/plain": [
       "[1] 0"
      ]
     },
     "metadata": {},
     "output_type": "display_data"
    }
   ],
   "source": [
    "class_1_men_pr = subset(titanic_pr_men, titanic_pr_men$Class == \"1st\")\n",
    "class_3_men_pr = subset(titanic_pr_men, titanic_pr_men$Class == \"3rd\")\n",
    "\n",
    "odds(class_1_men_pr, class_1_men_pr$Survived == TRUE)\n",
    "odds(class_3_men_pr, class_3_men_pr$Survived == TRUE)"
   ]
  },
  {
   "cell_type": "markdown",
   "id": "31463de6-082b-4bd7-b60e-a6aa1f5577a0",
   "metadata": {},
   "source": [
    "### Q1.2: Anesthesia Surgery Dataset"
   ]
  },
  {
   "cell_type": "code",
   "execution_count": 71,
   "id": "28c2e152-65ea-41a5-b553-477607e6c8ab",
   "metadata": {},
   "outputs": [
    {
     "data": {
      "text/html": [
       "<table class=\"dataframe\">\n",
       "<caption>A data.frame: 6 × 3</caption>\n",
       "<thead>\n",
       "\t<tr><th></th><th scope=col>type</th><th scope=col>sore</th><th scope=col>duration</th></tr>\n",
       "\t<tr><th></th><th scope=col>&lt;dbl&gt;</th><th scope=col>&lt;dbl&gt;</th><th scope=col>&lt;dbl&gt;</th></tr>\n",
       "</thead>\n",
       "<tbody>\n",
       "\t<tr><th scope=row>1</th><td>0</td><td>0</td><td>45</td></tr>\n",
       "\t<tr><th scope=row>2</th><td>0</td><td>0</td><td>15</td></tr>\n",
       "\t<tr><th scope=row>3</th><td>0</td><td>1</td><td>40</td></tr>\n",
       "\t<tr><th scope=row>4</th><td>1</td><td>1</td><td>83</td></tr>\n",
       "\t<tr><th scope=row>5</th><td>1</td><td>1</td><td>90</td></tr>\n",
       "\t<tr><th scope=row>6</th><td>1</td><td>1</td><td>25</td></tr>\n",
       "</tbody>\n",
       "</table>\n"
      ],
      "text/latex": [
       "A data.frame: 6 × 3\n",
       "\\begin{tabular}{r|lll}\n",
       "  & type & sore & duration\\\\\n",
       "  & <dbl> & <dbl> & <dbl>\\\\\n",
       "\\hline\n",
       "\t1 & 0 & 0 & 45\\\\\n",
       "\t2 & 0 & 0 & 15\\\\\n",
       "\t3 & 0 & 1 & 40\\\\\n",
       "\t4 & 1 & 1 & 83\\\\\n",
       "\t5 & 1 & 1 & 90\\\\\n",
       "\t6 & 1 & 1 & 25\\\\\n",
       "\\end{tabular}\n"
      ],
      "text/markdown": [
       "\n",
       "A data.frame: 6 × 3\n",
       "\n",
       "| <!--/--> | type &lt;dbl&gt; | sore &lt;dbl&gt; | duration &lt;dbl&gt; |\n",
       "|---|---|---|---|\n",
       "| 1 | 0 | 0 | 45 |\n",
       "| 2 | 0 | 0 | 15 |\n",
       "| 3 | 0 | 1 | 40 |\n",
       "| 4 | 1 | 1 | 83 |\n",
       "| 5 | 1 | 1 | 90 |\n",
       "| 6 | 1 | 1 | 25 |\n",
       "\n"
      ],
      "text/plain": [
       "  type sore duration\n",
       "1 0    0    45      \n",
       "2 0    0    15      \n",
       "3 0    1    40      \n",
       "4 1    1    83      \n",
       "5 1    1    90      \n",
       "6 1    1    25      "
      ]
     },
     "metadata": {},
     "output_type": "display_data"
    }
   ],
   "source": [
    "surgery <- data.frame(\n",
    "    type = c(0,0,0,1,1,1,0,0,0,0,0,1,1,1,0,0,1,1,1,0,0,0,0,1,1,0,1,0,1,0,0,1,1,1,1),\n",
    "    sore = c(0,0,1,1,1,1,1,1,1,1,1,1,0,1,0,1,0,1,1,1,1,0,1,0,0,1,0,1,0,1,1,0,1,0,0),\n",
    "    duration = c(45,15,40,83,90,25,35,65,95,35,75,45,50,75,30,25,20,60,70,30,60,61,\n",
    "                 65,15,20,45,15,25,15,30,40,15,135,20,40)\n",
    ")\n",
    "head(surgery)"
   ]
  },
  {
   "cell_type": "markdown",
   "id": "c47083cd-b39c-4b55-90e2-40ade2cb4762",
   "metadata": {},
   "source": [
    "a. Disregarding the duration information, compute the observed joint distribution of sore throat\n",
    "incidence and type of anesthesia and carry out a chi-squared test to see whether these two\n",
    "variables are independent from each other."
   ]
  },
  {
   "cell_type": "code",
   "execution_count": 72,
   "id": "c41f5165-b702-4dee-8b7c-b6534b03bf4b",
   "metadata": {},
   "outputs": [
    {
     "data": {
      "text/plain": [
       "\n",
       "\tPearson's Chi-squared test with Yates' continuity correction\n",
       "\n",
       "data:  surgery$type and surgery$sore\n",
       "X-squared = 2.3405, df = 1, p-value = 0.1261\n"
      ]
     },
     "metadata": {},
     "output_type": "display_data"
    }
   ],
   "source": [
    "chisq.test(surgery$type, surgery$sore)"
   ]
  },
  {
   "cell_type": "markdown",
   "id": "ba0110b4-d410-4c8f-bf3a-f243adc4fce6",
   "metadata": {},
   "source": [
    "b. Fit a logistic regression model to investigate whether the surgery duration and anesthesia\n",
    "type have a significant effect on the occurrence of sore throat."
   ]
  },
  {
   "cell_type": "code",
   "execution_count": 73,
   "id": "8aebc95f-513c-4473-a64e-0cd9e08b685e",
   "metadata": {},
   "outputs": [],
   "source": [
    "m3 <- glm(sore ~ type + duration, family=\"binomial\", surgery)"
   ]
  },
  {
   "cell_type": "markdown",
   "id": "c09aba60-1d38-4c51-8d24-1c5f1b4bda12",
   "metadata": {},
   "source": [
    "c. Which statistical test can be used to assess whether the effect of duration differs for the two types of anesthesia?"
   ]
  },
  {
   "cell_type": "code",
   "execution_count": null,
   "id": "32b32279-4f74-4d66-8acc-fa9845ac02d4",
   "metadata": {},
   "outputs": [],
   "source": []
  },
  {
   "cell_type": "markdown",
   "id": "7eed121a-051f-487d-a455-95cc24884c0d",
   "metadata": {},
   "source": [
    "## 2. Multiple linear regression"
   ]
  },
  {
   "cell_type": "markdown",
   "id": "618c9398-0177-4f14-b6d8-4641427eb668",
   "metadata": {},
   "source": [
    "### Q2.1: Prostate Data"
   ]
  },
  {
   "cell_type": "code",
   "execution_count": 325,
   "id": "141cc0fc-f683-4a01-9575-a47b753a5fea",
   "metadata": {},
   "outputs": [
    {
     "data": {
      "text/html": [
       "<table class=\"dataframe\">\n",
       "<caption>A data.frame: 6 × 10</caption>\n",
       "<thead>\n",
       "\t<tr><th></th><th scope=col>lcavol</th><th scope=col>lweight</th><th scope=col>age</th><th scope=col>lbph</th><th scope=col>svi</th><th scope=col>lcp</th><th scope=col>gleason</th><th scope=col>pgg45</th><th scope=col>lpsa</th><th scope=col>train</th></tr>\n",
       "\t<tr><th></th><th scope=col>&lt;dbl&gt;</th><th scope=col>&lt;dbl&gt;</th><th scope=col>&lt;int&gt;</th><th scope=col>&lt;dbl&gt;</th><th scope=col>&lt;int&gt;</th><th scope=col>&lt;dbl&gt;</th><th scope=col>&lt;int&gt;</th><th scope=col>&lt;int&gt;</th><th scope=col>&lt;dbl&gt;</th><th scope=col>&lt;lgl&gt;</th></tr>\n",
       "</thead>\n",
       "<tbody>\n",
       "\t<tr><th scope=row>1</th><td>-0.5798185</td><td>2.769459</td><td>50</td><td>-1.386294</td><td>0</td><td>-1.386294</td><td>6</td><td> 0</td><td>-0.4307829</td><td>TRUE</td></tr>\n",
       "\t<tr><th scope=row>2</th><td>-0.9942523</td><td>3.319626</td><td>58</td><td>-1.386294</td><td>0</td><td>-1.386294</td><td>6</td><td> 0</td><td>-0.1625189</td><td>TRUE</td></tr>\n",
       "\t<tr><th scope=row>3</th><td>-0.5108256</td><td>2.691243</td><td>74</td><td>-1.386294</td><td>0</td><td>-1.386294</td><td>7</td><td>20</td><td>-0.1625189</td><td>TRUE</td></tr>\n",
       "\t<tr><th scope=row>4</th><td>-1.2039728</td><td>3.282789</td><td>58</td><td>-1.386294</td><td>0</td><td>-1.386294</td><td>6</td><td> 0</td><td>-0.1625189</td><td>TRUE</td></tr>\n",
       "\t<tr><th scope=row>5</th><td> 0.7514161</td><td>3.432373</td><td>62</td><td>-1.386294</td><td>0</td><td>-1.386294</td><td>6</td><td> 0</td><td> 0.3715636</td><td>TRUE</td></tr>\n",
       "\t<tr><th scope=row>6</th><td>-1.0498221</td><td>3.228826</td><td>50</td><td>-1.386294</td><td>0</td><td>-1.386294</td><td>6</td><td> 0</td><td> 0.7654678</td><td>TRUE</td></tr>\n",
       "</tbody>\n",
       "</table>\n"
      ],
      "text/latex": [
       "A data.frame: 6 × 10\n",
       "\\begin{tabular}{r|llllllllll}\n",
       "  & lcavol & lweight & age & lbph & svi & lcp & gleason & pgg45 & lpsa & train\\\\\n",
       "  & <dbl> & <dbl> & <int> & <dbl> & <int> & <dbl> & <int> & <int> & <dbl> & <lgl>\\\\\n",
       "\\hline\n",
       "\t1 & -0.5798185 & 2.769459 & 50 & -1.386294 & 0 & -1.386294 & 6 &  0 & -0.4307829 & TRUE\\\\\n",
       "\t2 & -0.9942523 & 3.319626 & 58 & -1.386294 & 0 & -1.386294 & 6 &  0 & -0.1625189 & TRUE\\\\\n",
       "\t3 & -0.5108256 & 2.691243 & 74 & -1.386294 & 0 & -1.386294 & 7 & 20 & -0.1625189 & TRUE\\\\\n",
       "\t4 & -1.2039728 & 3.282789 & 58 & -1.386294 & 0 & -1.386294 & 6 &  0 & -0.1625189 & TRUE\\\\\n",
       "\t5 &  0.7514161 & 3.432373 & 62 & -1.386294 & 0 & -1.386294 & 6 &  0 &  0.3715636 & TRUE\\\\\n",
       "\t6 & -1.0498221 & 3.228826 & 50 & -1.386294 & 0 & -1.386294 & 6 &  0 &  0.7654678 & TRUE\\\\\n",
       "\\end{tabular}\n"
      ],
      "text/markdown": [
       "\n",
       "A data.frame: 6 × 10\n",
       "\n",
       "| <!--/--> | lcavol &lt;dbl&gt; | lweight &lt;dbl&gt; | age &lt;int&gt; | lbph &lt;dbl&gt; | svi &lt;int&gt; | lcp &lt;dbl&gt; | gleason &lt;int&gt; | pgg45 &lt;int&gt; | lpsa &lt;dbl&gt; | train &lt;lgl&gt; |\n",
       "|---|---|---|---|---|---|---|---|---|---|---|\n",
       "| 1 | -0.5798185 | 2.769459 | 50 | -1.386294 | 0 | -1.386294 | 6 |  0 | -0.4307829 | TRUE |\n",
       "| 2 | -0.9942523 | 3.319626 | 58 | -1.386294 | 0 | -1.386294 | 6 |  0 | -0.1625189 | TRUE |\n",
       "| 3 | -0.5108256 | 2.691243 | 74 | -1.386294 | 0 | -1.386294 | 7 | 20 | -0.1625189 | TRUE |\n",
       "| 4 | -1.2039728 | 3.282789 | 58 | -1.386294 | 0 | -1.386294 | 6 |  0 | -0.1625189 | TRUE |\n",
       "| 5 |  0.7514161 | 3.432373 | 62 | -1.386294 | 0 | -1.386294 | 6 |  0 |  0.3715636 | TRUE |\n",
       "| 6 | -1.0498221 | 3.228826 | 50 | -1.386294 | 0 | -1.386294 | 6 |  0 |  0.7654678 | TRUE |\n",
       "\n"
      ],
      "text/plain": [
       "  lcavol     lweight  age lbph      svi lcp       gleason pgg45 lpsa      \n",
       "1 -0.5798185 2.769459 50  -1.386294 0   -1.386294 6        0    -0.4307829\n",
       "2 -0.9942523 3.319626 58  -1.386294 0   -1.386294 6        0    -0.1625189\n",
       "3 -0.5108256 2.691243 74  -1.386294 0   -1.386294 7       20    -0.1625189\n",
       "4 -1.2039728 3.282789 58  -1.386294 0   -1.386294 6        0    -0.1625189\n",
       "5  0.7514161 3.432373 62  -1.386294 0   -1.386294 6        0     0.3715636\n",
       "6 -1.0498221 3.228826 50  -1.386294 0   -1.386294 6        0     0.7654678\n",
       "  train\n",
       "1 TRUE \n",
       "2 TRUE \n",
       "3 TRUE \n",
       "4 TRUE \n",
       "5 TRUE \n",
       "6 TRUE "
      ]
     },
     "metadata": {},
     "output_type": "display_data"
    }
   ],
   "source": [
    "df = read.table(\"data/prostate.dat\")\n",
    "head(df)"
   ]
  },
  {
   "cell_type": "markdown",
   "id": "789a0cea-dcd4-4a59-9a7b-a5868ab1cd2f",
   "metadata": {},
   "source": [
    "b. Compute the correlation matrix of the data and a scatterplot matrix of pairwise plots (omit the dummy variable called train)."
   ]
  },
  {
   "cell_type": "code",
   "execution_count": null,
   "id": "5ed8ffa5-710c-45e8-bee0-431c56bf31bb",
   "metadata": {},
   "outputs": [],
   "source": []
  },
  {
   "cell_type": "code",
   "execution_count": null,
   "id": "ba194ac3-401e-4b13-8cde-fccb94f4fc68",
   "metadata": {},
   "outputs": [],
   "source": []
  },
  {
   "cell_type": "markdown",
   "id": "355c33fa-8df7-4a6f-8fa5-c297153d4e01",
   "metadata": {},
   "source": [
    "## Practice Test"
   ]
  },
  {
   "cell_type": "markdown",
   "id": "7a50e62e-4731-4587-876f-8eb384574f05",
   "metadata": {},
   "source": [
    "### Question 1\n",
    "Refer to question Q1.1 of the GLM seminar handout (Titanic Survival data). \n",
    "Fit a logistic regression model with age, sex, passenger class, and interaction of the latter two as predictors and survival as response. Compute the estimated survival rate of the third class passengers.\n",
    "\n",
    "This rate, expressed as percentage rounded to the closest integer, is equal to ??? ."
   ]
  },
  {
   "cell_type": "code",
   "execution_count": 65,
   "id": "9b155e29-99e8-4ee1-84a4-cc71739439c9",
   "metadata": {},
   "outputs": [
    {
     "data": {
      "text/html": [
       "25"
      ],
      "text/latex": [
       "25"
      ],
      "text/markdown": [
       "25"
      ],
      "text/plain": [
       "[1] 25"
      ]
     },
     "metadata": {},
     "output_type": "display_data"
    }
   ],
   "source": [
    "round(odds(class_3, class_3$Survived == \"Yes\") * 100)"
   ]
  },
  {
   "cell_type": "markdown",
   "id": "96bec68b-db6a-48ad-b26f-e26ae0399fd2",
   "metadata": {},
   "source": [
    "### Question 2\n",
    "Refer to question Q1.1 of the GLM seminar handout (Titanic survival data). \n",
    "Fit a logistic regression model with age, sex, passenger class, and interaction of the latter two as predictors and survival as response.  Based on this model,   estimate the ratio of the odds of survival of female passengers in the 1st class and odds of survival of female passengers in the 3rd class. \n",
    "\n",
    "This ratio, rounded to the closest integer, is equal to ??? ."
   ]
  },
  {
   "cell_type": "code",
   "execution_count": 79,
   "id": "100c265c-60e5-49a1-9c51-96db3598f88a",
   "metadata": {},
   "outputs": [
    {
     "data": {
      "text/html": [
       "2"
      ],
      "text/latex": [
       "2"
      ],
      "text/markdown": [
       "2"
      ],
      "text/plain": [
       "[1] 2"
      ]
     },
     "metadata": {},
     "output_type": "display_data"
    },
    {
     "data": {
      "text/html": [
       "6"
      ],
      "text/latex": [
       "6"
      ],
      "text/markdown": [
       "6"
      ],
      "text/plain": [
       "[1] 6"
      ]
     },
     "metadata": {},
     "output_type": "display_data"
    },
    {
     "data": {
      "text/html": [
       "15"
      ],
      "text/latex": [
       "15"
      ],
      "text/markdown": [
       "15"
      ],
      "text/plain": [
       "[1] 15"
      ]
     },
     "metadata": {},
     "output_type": "display_data"
    }
   ],
   "source": [
    "class_1_women = subset(titanic_women, titanic_women$Class == \"1st\")\n",
    "class_3_women = subset(titanic_women, titanic_women$Class == \"3rd\")\n",
    "# Actual\n",
    "round(\n",
    "    odds(class_1_women, class_1_women$Survived == \"Yes\")/\n",
    "    odds(class_3_women, class_3_women$Survived == \"Yes\"))\n",
    "\n",
    "class_1_women_pr = subset(titanic_pr_women, titanic_pr_women$Class == \"1st\")\n",
    "class_3_women_pr = subset(titanic_pr_women, titanic_pr_women$Class == \"3rd\")\n",
    "# Predicted\n",
    "round(\n",
    "    odds(class_1_women_pr, class_1_women_pr$Survived == TRUE)/\n",
    "    odds(class_3_women_pr, class_3_women_pr$Survived == TRUE))\n",
    "\n",
    "# Calculated\n",
    "round(exp(-0.1639) / exp(-2.8625))"
   ]
  },
  {
   "cell_type": "markdown",
   "id": "d061ff46-55b6-4126-97bf-dd09c50482b9",
   "metadata": {},
   "source": [
    "### Question 3\n",
    "Fit two logistic regression models:  a model with and a model without the interaction between surgery duration and anesthesia type.\n",
    "\n",
    "Perform the likelihood-ratio test to see whether the interaction effect is significant. Rounded to two decimal places, the p-value for this test is equal to "
   ]
  },
  {
   "cell_type": "code",
   "execution_count": 334,
   "id": "3c14137a-4a1a-4a7a-83f7-5f1d6ba2d9bd",
   "metadata": {},
   "outputs": [
    {
     "data": {
      "text/html": [
       "<table class=\"dataframe\">\n",
       "<caption>A anova: 2 × 5</caption>\n",
       "<thead>\n",
       "\t<tr><th></th><th scope=col>#Df</th><th scope=col>LogLik</th><th scope=col>Df</th><th scope=col>Chisq</th><th scope=col>Pr(&gt;Chisq)</th></tr>\n",
       "\t<tr><th></th><th scope=col>&lt;dbl&gt;</th><th scope=col>&lt;dbl&gt;</th><th scope=col>&lt;dbl&gt;</th><th scope=col>&lt;dbl&gt;</th><th scope=col>&lt;dbl&gt;</th></tr>\n",
       "</thead>\n",
       "<tbody>\n",
       "\t<tr><th scope=row>1</th><td>4</td><td>-14.16053</td><td>NA</td><td>      NA</td><td>       NA</td></tr>\n",
       "\t<tr><th scope=row>2</th><td>3</td><td>-15.06897</td><td>-1</td><td>1.816886</td><td>0.1776844</td></tr>\n",
       "</tbody>\n",
       "</table>\n"
      ],
      "text/latex": [
       "A anova: 2 × 5\n",
       "\\begin{tabular}{r|lllll}\n",
       "  & \\#Df & LogLik & Df & Chisq & Pr(>Chisq)\\\\\n",
       "  & <dbl> & <dbl> & <dbl> & <dbl> & <dbl>\\\\\n",
       "\\hline\n",
       "\t1 & 4 & -14.16053 & NA &       NA &        NA\\\\\n",
       "\t2 & 3 & -15.06897 & -1 & 1.816886 & 0.1776844\\\\\n",
       "\\end{tabular}\n"
      ],
      "text/markdown": [
       "\n",
       "A anova: 2 × 5\n",
       "\n",
       "| <!--/--> | #Df &lt;dbl&gt; | LogLik &lt;dbl&gt; | Df &lt;dbl&gt; | Chisq &lt;dbl&gt; | Pr(&gt;Chisq) &lt;dbl&gt; |\n",
       "|---|---|---|---|---|---|\n",
       "| 1 | 4 | -14.16053 | NA |       NA |        NA |\n",
       "| 2 | 3 | -15.06897 | -1 | 1.816886 | 0.1776844 |\n",
       "\n"
      ],
      "text/plain": [
       "  #Df LogLik    Df Chisq    Pr(>Chisq)\n",
       "1 4   -14.16053 NA       NA        NA \n",
       "2 3   -15.06897 -1 1.816886 0.1776844 "
      ]
     },
     "metadata": {},
     "output_type": "display_data"
    },
    {
     "data": {
      "text/plain": [
       "'log Lik.' -14.16053 (df=4)"
      ]
     },
     "metadata": {},
     "output_type": "display_data"
    },
    {
     "data": {
      "text/plain": [
       "'log Lik.' -15.06897 (df=3)"
      ]
     },
     "metadata": {},
     "output_type": "display_data"
    },
    {
     "data": {
      "text/html": [
       "0.18"
      ],
      "text/latex": [
       "0.18"
      ],
      "text/markdown": [
       "0.18"
      ],
      "text/plain": [
       "[1] 0.18"
      ]
     },
     "metadata": {},
     "output_type": "display_data"
    }
   ],
   "source": [
    "library(\"lmtest\")\n",
    "\n",
    "without <- glm(sore ~ type + duration, data=surgery, family=\"binomial\")\n",
    "with <- glm(sore ~ type + duration + type:duration, data=surgery, family=\"binomial\")\n",
    "\n",
    "lrtest(with, without)\n",
    "logLik(with)\n",
    "logLik(without)\n",
    "teststat <- -2 * (as.numeric(logLik(without))-as.numeric(logLik(with)))\n",
    "\n",
    "round(pchisq(teststat, df = 1, lower.tail = FALSE), 2)"
   ]
  }
 ],
 "metadata": {
  "kernelspec": {
   "display_name": "R",
   "language": "R",
   "name": "ir"
  },
  "language_info": {
   "codemirror_mode": "r",
   "file_extension": ".r",
   "mimetype": "text/x-r-source",
   "name": "R",
   "pygments_lexer": "r",
   "version": "4.3.1"
  }
 },
 "nbformat": 4,
 "nbformat_minor": 5
}
