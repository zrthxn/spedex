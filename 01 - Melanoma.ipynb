{
 "cells": [
  {
   "cell_type": "markdown",
   "id": "ebbcf366-dcdf-4559-a5f0-d3e93e51f506",
   "metadata": {
    "editable": true,
    "slideshow": {
     "slide_type": ""
    },
    "tags": []
   },
   "source": [
    "# Seminar 1 - Dataframes and Plotting"
   ]
  },
  {
   "cell_type": "markdown",
   "id": "4c5b5f88-e1f2-4b07-b871-eeb4acabf643",
   "metadata": {},
   "source": [
    "## Data Types"
   ]
  },
  {
   "cell_type": "code",
   "execution_count": 2,
   "id": "ce0a275c-c95f-4577-aaed-e488aa40aa1e",
   "metadata": {
    "vscode": {
     "languageId": "r"
    }
   },
   "outputs": [],
   "source": [
    "## Basic Primitive Types\n",
    "\n",
    "x <- 8\n",
    "\n",
    "x <- \"Hello there\""
   ]
  },
  {
   "cell_type": "code",
   "execution_count": 3,
   "id": "0c11146f-f622-4913-bdad-1012e70ea4f4",
   "metadata": {
    "vscode": {
     "languageId": "r"
    }
   },
   "outputs": [
    {
     "data": {
      "text/html": [
       "'Hello there'"
      ],
      "text/latex": [
       "'Hello there'"
      ],
      "text/markdown": [
       "'Hello there'"
      ],
      "text/plain": [
       "[1] \"Hello there\""
      ]
     },
     "metadata": {},
     "output_type": "display_data"
    },
    {
     "name": "stdout",
     "output_type": "stream",
     "text": [
      "[1] \"Hello there\"\n"
     ]
    },
    {
     "data": {
      "text/html": [
       "TRUE"
      ],
      "text/latex": [
       "TRUE"
      ],
      "text/markdown": [
       "TRUE"
      ],
      "text/plain": [
       "[1] TRUE"
      ]
     },
     "metadata": {},
     "output_type": "display_data"
    }
   ],
   "source": [
    "x # implicit print\n",
    "print(x) # explicit print\n",
    "\n",
    "x <- c(1, 2, 3, 4, 5)\n",
    "x <- TRUE\n",
    "x"
   ]
  },
  {
   "cell_type": "code",
   "execution_count": 4,
   "id": "652f5850-018a-4b34-9110-6329f2419278",
   "metadata": {
    "vscode": {
     "languageId": "r"
    }
   },
   "outputs": [],
   "source": [
    "# <- is the assignment operator \n",
    "x <- date()\n",
    "\n",
    "# but in this stupid language = also works!\n",
    "x = 420"
   ]
  },
  {
   "cell_type": "code",
   "execution_count": 5,
   "id": "a5ca6ff5-69c2-4142-9733-4ffe14f32023",
   "metadata": {
    "vscode": {
     "languageId": "r"
    }
   },
   "outputs": [
    {
     "data": {
      "text/html": [
       "36"
      ],
      "text/latex": [
       "36"
      ],
      "text/markdown": [
       "36"
      ],
      "text/plain": [
       "[1] 36"
      ]
     },
     "metadata": {},
     "output_type": "display_data"
    }
   ],
   "source": [
    "x <- c(10:45)\n",
    "length(x)"
   ]
  },
  {
   "cell_type": "code",
   "execution_count": 6,
   "id": "346f2981-2296-4c9b-8d77-e01875031f2c",
   "metadata": {
    "vscode": {
     "languageId": "r"
    }
   },
   "outputs": [
    {
     "data": {
      "text/html": [
       "<table class=\"dataframe\">\n",
       "<caption>A matrix: 4 × 3 of type int</caption>\n",
       "<tbody>\n",
       "\t<tr><td>1</td><td>5</td><td> 9</td></tr>\n",
       "\t<tr><td>2</td><td>6</td><td>10</td></tr>\n",
       "\t<tr><td>3</td><td>7</td><td>11</td></tr>\n",
       "\t<tr><td>4</td><td>8</td><td>12</td></tr>\n",
       "</tbody>\n",
       "</table>\n"
      ],
      "text/latex": [
       "A matrix: 4 × 3 of type int\n",
       "\\begin{tabular}{lll}\n",
       "\t 1 & 5 &  9\\\\\n",
       "\t 2 & 6 & 10\\\\\n",
       "\t 3 & 7 & 11\\\\\n",
       "\t 4 & 8 & 12\\\\\n",
       "\\end{tabular}\n"
      ],
      "text/markdown": [
       "\n",
       "A matrix: 4 × 3 of type int\n",
       "\n",
       "| 1 | 5 |  9 |\n",
       "| 2 | 6 | 10 |\n",
       "| 3 | 7 | 11 |\n",
       "| 4 | 8 | 12 |\n",
       "\n"
      ],
      "text/plain": [
       "     [,1] [,2] [,3]\n",
       "[1,] 1    5     9  \n",
       "[2,] 2    6    10  \n",
       "[3,] 3    7    11  \n",
       "[4,] 4    8    12  "
      ]
     },
     "metadata": {},
     "output_type": "display_data"
    },
    {
     "data": {
      "text/html": [
       "<style>\n",
       ".list-inline {list-style: none; margin:0; padding: 0}\n",
       ".list-inline>li {display: inline-block}\n",
       ".list-inline>li:not(:last-child)::after {content: \"\\00b7\"; padding: 0 .5ex}\n",
       "</style>\n",
       "<ol class=list-inline><li>5</li><li>6</li><li>7</li><li>8</li></ol>\n"
      ],
      "text/latex": [
       "\\begin{enumerate*}\n",
       "\\item 5\n",
       "\\item 6\n",
       "\\item 7\n",
       "\\item 8\n",
       "\\end{enumerate*}\n"
      ],
      "text/markdown": [
       "1. 5\n",
       "2. 6\n",
       "3. 7\n",
       "4. 8\n",
       "\n",
       "\n"
      ],
      "text/plain": [
       "[1] 5 6 7 8"
      ]
     },
     "metadata": {},
     "output_type": "display_data"
    }
   ],
   "source": [
    "## Matrices and Arrays\n",
    "\n",
    "# generates a matrix with four rows and three columns\n",
    "# and fills it with numbers from 1 to 12\n",
    "m <- matrix(1:12, nrow = 4, ncol = 3)\n",
    "m\n",
    "\n",
    "m[,2]"
   ]
  },
  {
   "cell_type": "code",
   "execution_count": 7,
   "id": "0d99332a-7be4-4fd1-9147-c9a8a68b2ec4",
   "metadata": {
    "vscode": {
     "languageId": "r"
    }
   },
   "outputs": [
    {
     "data": {
      "text/html": [
       "<table class=\"dataframe\">\n",
       "<caption>A matrix: 2 × 3 of type int</caption>\n",
       "<tbody>\n",
       "\t<tr><td>2</td><td>6</td><td>10</td></tr>\n",
       "\t<tr><td>3</td><td>7</td><td>11</td></tr>\n",
       "</tbody>\n",
       "</table>\n"
      ],
      "text/latex": [
       "A matrix: 2 × 3 of type int\n",
       "\\begin{tabular}{lll}\n",
       "\t 2 & 6 & 10\\\\\n",
       "\t 3 & 7 & 11\\\\\n",
       "\\end{tabular}\n"
      ],
      "text/markdown": [
       "\n",
       "A matrix: 2 × 3 of type int\n",
       "\n",
       "| 2 | 6 | 10 |\n",
       "| 3 | 7 | 11 |\n",
       "\n"
      ],
      "text/plain": [
       "     [,1] [,2] [,3]\n",
       "[1,] 2    6    10  \n",
       "[2,] 3    7    11  "
      ]
     },
     "metadata": {},
     "output_type": "display_data"
    }
   ],
   "source": [
    "m[2:3,]"
   ]
  },
  {
   "cell_type": "code",
   "execution_count": 8,
   "id": "b2b79fce-4ee1-4b48-8530-5445adf9b82a",
   "metadata": {
    "vscode": {
     "languageId": "r"
    }
   },
   "outputs": [
    {
     "data": {
      "text/html": [
       "<table class=\"dataframe\">\n",
       "<caption>A matrix: 3 × 3 of type int</caption>\n",
       "<tbody>\n",
       "\t<tr><td>2</td><td>6</td><td>10</td></tr>\n",
       "\t<tr><td>3</td><td>7</td><td>11</td></tr>\n",
       "\t<tr><td>4</td><td>8</td><td>12</td></tr>\n",
       "</tbody>\n",
       "</table>\n"
      ],
      "text/latex": [
       "A matrix: 3 × 3 of type int\n",
       "\\begin{tabular}{lll}\n",
       "\t 2 & 6 & 10\\\\\n",
       "\t 3 & 7 & 11\\\\\n",
       "\t 4 & 8 & 12\\\\\n",
       "\\end{tabular}\n"
      ],
      "text/markdown": [
       "\n",
       "A matrix: 3 × 3 of type int\n",
       "\n",
       "| 2 | 6 | 10 |\n",
       "| 3 | 7 | 11 |\n",
       "| 4 | 8 | 12 |\n",
       "\n"
      ],
      "text/plain": [
       "     [,1] [,2] [,3]\n",
       "[1,] 2    6    10  \n",
       "[2,] 3    7    11  \n",
       "[3,] 4    8    12  "
      ]
     },
     "metadata": {},
     "output_type": "display_data"
    }
   ],
   "source": [
    "m[2:4,1:3]"
   ]
  },
  {
   "cell_type": "markdown",
   "id": "f664e892-1d65-4872-bb9e-88edd494ca21",
   "metadata": {
    "editable": true,
    "slideshow": {
     "slide_type": ""
    },
    "tags": []
   },
   "source": [
    "## Dataframes"
   ]
  },
  {
   "cell_type": "code",
   "execution_count": 9,
   "id": "7d2aeeb5-902d-40f4-805b-8d3bc27b186a",
   "metadata": {
    "editable": true,
    "slideshow": {
     "slide_type": ""
    },
    "tags": [],
    "vscode": {
     "languageId": "r"
    }
   },
   "outputs": [],
   "source": [
    "library(\"ggplot2\")\n",
    "library(\"patchwork\")"
   ]
  },
  {
   "cell_type": "code",
   "execution_count": 10,
   "id": "908c6aca-0067-440b-a81d-e97edc929e56",
   "metadata": {
    "vscode": {
     "languageId": "r"
    }
   },
   "outputs": [
    {
     "data": {
      "text/html": [
       "<table class=\"dataframe\">\n",
       "<caption>A data.frame: 3 × 2</caption>\n",
       "<thead>\n",
       "\t<tr><th scope=col>type</th><th scope=col>value</th></tr>\n",
       "\t<tr><th scope=col>&lt;chr&gt;</th><th scope=col>&lt;dbl&gt;</th></tr>\n",
       "</thead>\n",
       "<tbody>\n",
       "\t<tr><td>A</td><td>1</td></tr>\n",
       "\t<tr><td>B</td><td>2</td></tr>\n",
       "\t<tr><td>C</td><td>3</td></tr>\n",
       "</tbody>\n",
       "</table>\n"
      ],
      "text/latex": [
       "A data.frame: 3 × 2\n",
       "\\begin{tabular}{ll}\n",
       " type & value\\\\\n",
       " <chr> & <dbl>\\\\\n",
       "\\hline\n",
       "\t A & 1\\\\\n",
       "\t B & 2\\\\\n",
       "\t C & 3\\\\\n",
       "\\end{tabular}\n"
      ],
      "text/markdown": [
       "\n",
       "A data.frame: 3 × 2\n",
       "\n",
       "| type &lt;chr&gt; | value &lt;dbl&gt; |\n",
       "|---|---|\n",
       "| A | 1 |\n",
       "| B | 2 |\n",
       "| C | 3 |\n",
       "\n"
      ],
      "text/plain": [
       "  type value\n",
       "1 A    1    \n",
       "2 B    2    \n",
       "3 C    3    "
      ]
     },
     "metadata": {},
     "output_type": "display_data"
    },
    {
     "data": {
      "text/html": [
       "<table class=\"dataframe\">\n",
       "<caption>A data.frame: 4 × 3</caption>\n",
       "<thead>\n",
       "\t<tr><th scope=col>gene</th><th scope=col>nReads.tumour</th><th scope=col>nReads.normal</th></tr>\n",
       "\t<tr><th scope=col>&lt;chr&gt;</th><th scope=col>&lt;dbl&gt;</th><th scope=col>&lt;dbl&gt;</th></tr>\n",
       "</thead>\n",
       "<tbody>\n",
       "\t<tr><td>DNMT3A</td><td>87</td><td>21</td></tr>\n",
       "\t<tr><td>NPM1  </td><td>54</td><td>70</td></tr>\n",
       "\t<tr><td>RAS   </td><td>67</td><td>84</td></tr>\n",
       "\t<tr><td>FLT3  </td><td>72</td><td>48</td></tr>\n",
       "</tbody>\n",
       "</table>\n"
      ],
      "text/latex": [
       "A data.frame: 4 × 3\n",
       "\\begin{tabular}{lll}\n",
       " gene & nReads.tumour & nReads.normal\\\\\n",
       " <chr> & <dbl> & <dbl>\\\\\n",
       "\\hline\n",
       "\t DNMT3A & 87 & 21\\\\\n",
       "\t NPM1   & 54 & 70\\\\\n",
       "\t RAS    & 67 & 84\\\\\n",
       "\t FLT3   & 72 & 48\\\\\n",
       "\\end{tabular}\n"
      ],
      "text/markdown": [
       "\n",
       "A data.frame: 4 × 3\n",
       "\n",
       "| gene &lt;chr&gt; | nReads.tumour &lt;dbl&gt; | nReads.normal &lt;dbl&gt; |\n",
       "|---|---|---|\n",
       "| DNMT3A | 87 | 21 |\n",
       "| NPM1   | 54 | 70 |\n",
       "| RAS    | 67 | 84 |\n",
       "| FLT3   | 72 | 48 |\n",
       "\n"
      ],
      "text/plain": [
       "  gene   nReads.tumour nReads.normal\n",
       "1 DNMT3A 87            21           \n",
       "2 NPM1   54            70           \n",
       "3 RAS    67            84           \n",
       "4 FLT3   72            48           "
      ]
     },
     "metadata": {},
     "output_type": "display_data"
    }
   ],
   "source": [
    "## Dataframes\n",
    "\n",
    "# Simple dataframe\n",
    "data.frame(\n",
    "  type = c(\"A\", \"B\", \"C\"),\n",
    "  value = c(1, 2, 3)\n",
    ")\n",
    "\n",
    "data.frame(gene = c(\"DNMT3A\", \"NPM1\", \"RAS\", \"FLT3\"),\n",
    "           nReads.tumour = c(87, 54, 67, 72),\n",
    "           nReads.normal = c(21, 70, 84, 48))"
   ]
  },
  {
   "cell_type": "code",
   "execution_count": 12,
   "id": "a770e24d-6f35-4b51-9b03-aeba777a178f",
   "metadata": {
    "vscode": {
     "languageId": "r"
    }
   },
   "outputs": [
    {
     "data": {
      "text/html": [
       "<table class=\"dataframe\">\n",
       "<caption>A data.frame: 49 × 4</caption>\n",
       "<thead>\n",
       "\t<tr><th></th><th scope=col>mortality</th><th scope=col>latitude</th><th scope=col>longitude</th><th scope=col>ocean</th></tr>\n",
       "\t<tr><th></th><th scope=col>&lt;int&gt;</th><th scope=col>&lt;dbl&gt;</th><th scope=col>&lt;dbl&gt;</th><th scope=col>&lt;chr&gt;</th></tr>\n",
       "</thead>\n",
       "<tbody>\n",
       "\t<tr><th scope=row>Alabama</th><td>219</td><td>33.0</td><td> 87.0</td><td>yes</td></tr>\n",
       "\t<tr><th scope=row>Arizona</th><td>160</td><td>34.5</td><td>112.0</td><td>no </td></tr>\n",
       "\t<tr><th scope=row>Arkansas</th><td>170</td><td>35.0</td><td> 92.5</td><td>no </td></tr>\n",
       "\t<tr><th scope=row>California</th><td>182</td><td>37.5</td><td>119.5</td><td>yes</td></tr>\n",
       "\t<tr><th scope=row>Colorado</th><td>149</td><td>39.0</td><td>105.5</td><td>no </td></tr>\n",
       "\t<tr><th scope=row>Connecticut</th><td>159</td><td>41.8</td><td> 72.8</td><td>yes</td></tr>\n",
       "\t<tr><th scope=row>Delaware</th><td>200</td><td>39.0</td><td> 75.5</td><td>yes</td></tr>\n",
       "\t<tr><th scope=row>District of Columbia</th><td>177</td><td>39.0</td><td> 77.0</td><td>no </td></tr>\n",
       "\t<tr><th scope=row>Florida</th><td>197</td><td>28.0</td><td> 82.0</td><td>yes</td></tr>\n",
       "\t<tr><th scope=row>Georgia</th><td>214</td><td>33.0</td><td> 83.5</td><td>yes</td></tr>\n",
       "\t<tr><th scope=row>Idaho</th><td>116</td><td>44.5</td><td>114.0</td><td>no </td></tr>\n",
       "\t<tr><th scope=row>Illinois</th><td>124</td><td>40.0</td><td> 89.5</td><td>no </td></tr>\n",
       "\t<tr><th scope=row>Indiana</th><td>128</td><td>40.2</td><td> 86.2</td><td>no </td></tr>\n",
       "\t<tr><th scope=row>Iowa</th><td>128</td><td>42.2</td><td> 93.8</td><td>no </td></tr>\n",
       "\t<tr><th scope=row>Kansas</th><td>166</td><td>38.5</td><td> 98.5</td><td>no </td></tr>\n",
       "\t<tr><th scope=row>Kentucky</th><td>147</td><td>37.8</td><td> 85.0</td><td>no </td></tr>\n",
       "\t<tr><th scope=row>Louisiana</th><td>190</td><td>31.2</td><td> 91.8</td><td>yes</td></tr>\n",
       "\t<tr><th scope=row>Maine</th><td>117</td><td>45.2</td><td> 69.0</td><td>yes</td></tr>\n",
       "\t<tr><th scope=row>Maryland</th><td>162</td><td>39.0</td><td> 76.5</td><td>yes</td></tr>\n",
       "\t<tr><th scope=row>Massachusetts</th><td>143</td><td>42.2</td><td> 71.8</td><td>yes</td></tr>\n",
       "\t<tr><th scope=row>Michigan</th><td>117</td><td>43.5</td><td> 84.5</td><td>no </td></tr>\n",
       "\t<tr><th scope=row>Minnesota</th><td>116</td><td>46.0</td><td> 94.5</td><td>no </td></tr>\n",
       "\t<tr><th scope=row>Mississippi</th><td>207</td><td>32.8</td><td> 90.0</td><td>yes</td></tr>\n",
       "\t<tr><th scope=row>Missouri</th><td>131</td><td>38.5</td><td> 92.0</td><td>no </td></tr>\n",
       "\t<tr><th scope=row>Montana</th><td>109</td><td>47.0</td><td>110.5</td><td>no </td></tr>\n",
       "\t<tr><th scope=row>Nebraska</th><td>122</td><td>41.5</td><td> 99.5</td><td>no </td></tr>\n",
       "\t<tr><th scope=row>Nevada</th><td>191</td><td>39.0</td><td>117.0</td><td>no </td></tr>\n",
       "\t<tr><th scope=row>New Hampshire</th><td>129</td><td>43.8</td><td> 71.5</td><td>yes</td></tr>\n",
       "\t<tr><th scope=row>New Jersey</th><td>159</td><td>40.2</td><td> 74.5</td><td>yes</td></tr>\n",
       "\t<tr><th scope=row>New Mexico</th><td>141</td><td>35.0</td><td>106.0</td><td>no </td></tr>\n",
       "\t<tr><th scope=row>New York</th><td>152</td><td>43.0</td><td> 75.5</td><td>yes</td></tr>\n",
       "\t<tr><th scope=row>North Carolina</th><td>199</td><td>35.5</td><td> 79.5</td><td>yes</td></tr>\n",
       "\t<tr><th scope=row>North Dakota</th><td>115</td><td>47.5</td><td>100.5</td><td>no </td></tr>\n",
       "\t<tr><th scope=row>Ohio</th><td>131</td><td>40.2</td><td> 82.8</td><td>no </td></tr>\n",
       "\t<tr><th scope=row>Oklahoma</th><td>182</td><td>35.5</td><td> 97.2</td><td>no </td></tr>\n",
       "\t<tr><th scope=row>Oregon</th><td>136</td><td>44.0</td><td>120.5</td><td>yes</td></tr>\n",
       "\t<tr><th scope=row>Pennsylvania</th><td>132</td><td>40.8</td><td> 77.8</td><td>no </td></tr>\n",
       "\t<tr><th scope=row>Rhode Island</th><td>137</td><td>41.8</td><td> 71.5</td><td>yes</td></tr>\n",
       "\t<tr><th scope=row>South Carolina</th><td>178</td><td>33.8</td><td> 81.0</td><td>yes</td></tr>\n",
       "\t<tr><th scope=row>South Dakota</th><td> 86</td><td>44.8</td><td>100.0</td><td>no </td></tr>\n",
       "\t<tr><th scope=row>Tennessee</th><td>186</td><td>36.0</td><td> 86.2</td><td>no </td></tr>\n",
       "\t<tr><th scope=row>Texas</th><td>229</td><td>31.5</td><td> 98.0</td><td>yes</td></tr>\n",
       "\t<tr><th scope=row>Utah</th><td>142</td><td>39.5</td><td>111.5</td><td>no </td></tr>\n",
       "\t<tr><th scope=row>Vermont</th><td>153</td><td>44.0</td><td> 72.5</td><td>yes</td></tr>\n",
       "\t<tr><th scope=row>Virginia</th><td>166</td><td>37.5</td><td> 78.5</td><td>yes</td></tr>\n",
       "\t<tr><th scope=row>Washington</th><td>117</td><td>47.5</td><td>121.0</td><td>yes</td></tr>\n",
       "\t<tr><th scope=row>West Virginia</th><td>136</td><td>38.8</td><td> 80.8</td><td>no </td></tr>\n",
       "\t<tr><th scope=row>Wisconsin</th><td>110</td><td>44.5</td><td> 90.2</td><td>no </td></tr>\n",
       "\t<tr><th scope=row>Wyoming</th><td>134</td><td>43.0</td><td>107.5</td><td>no </td></tr>\n",
       "</tbody>\n",
       "</table>\n"
      ],
      "text/latex": [
       "A data.frame: 49 × 4\n",
       "\\begin{tabular}{r|llll}\n",
       "  & mortality & latitude & longitude & ocean\\\\\n",
       "  & <int> & <dbl> & <dbl> & <chr>\\\\\n",
       "\\hline\n",
       "\tAlabama & 219 & 33.0 &  87.0 & yes\\\\\n",
       "\tArizona & 160 & 34.5 & 112.0 & no \\\\\n",
       "\tArkansas & 170 & 35.0 &  92.5 & no \\\\\n",
       "\tCalifornia & 182 & 37.5 & 119.5 & yes\\\\\n",
       "\tColorado & 149 & 39.0 & 105.5 & no \\\\\n",
       "\tConnecticut & 159 & 41.8 &  72.8 & yes\\\\\n",
       "\tDelaware & 200 & 39.0 &  75.5 & yes\\\\\n",
       "\tDistrict of Columbia & 177 & 39.0 &  77.0 & no \\\\\n",
       "\tFlorida & 197 & 28.0 &  82.0 & yes\\\\\n",
       "\tGeorgia & 214 & 33.0 &  83.5 & yes\\\\\n",
       "\tIdaho & 116 & 44.5 & 114.0 & no \\\\\n",
       "\tIllinois & 124 & 40.0 &  89.5 & no \\\\\n",
       "\tIndiana & 128 & 40.2 &  86.2 & no \\\\\n",
       "\tIowa & 128 & 42.2 &  93.8 & no \\\\\n",
       "\tKansas & 166 & 38.5 &  98.5 & no \\\\\n",
       "\tKentucky & 147 & 37.8 &  85.0 & no \\\\\n",
       "\tLouisiana & 190 & 31.2 &  91.8 & yes\\\\\n",
       "\tMaine & 117 & 45.2 &  69.0 & yes\\\\\n",
       "\tMaryland & 162 & 39.0 &  76.5 & yes\\\\\n",
       "\tMassachusetts & 143 & 42.2 &  71.8 & yes\\\\\n",
       "\tMichigan & 117 & 43.5 &  84.5 & no \\\\\n",
       "\tMinnesota & 116 & 46.0 &  94.5 & no \\\\\n",
       "\tMississippi & 207 & 32.8 &  90.0 & yes\\\\\n",
       "\tMissouri & 131 & 38.5 &  92.0 & no \\\\\n",
       "\tMontana & 109 & 47.0 & 110.5 & no \\\\\n",
       "\tNebraska & 122 & 41.5 &  99.5 & no \\\\\n",
       "\tNevada & 191 & 39.0 & 117.0 & no \\\\\n",
       "\tNew Hampshire & 129 & 43.8 &  71.5 & yes\\\\\n",
       "\tNew Jersey & 159 & 40.2 &  74.5 & yes\\\\\n",
       "\tNew Mexico & 141 & 35.0 & 106.0 & no \\\\\n",
       "\tNew York & 152 & 43.0 &  75.5 & yes\\\\\n",
       "\tNorth Carolina & 199 & 35.5 &  79.5 & yes\\\\\n",
       "\tNorth Dakota & 115 & 47.5 & 100.5 & no \\\\\n",
       "\tOhio & 131 & 40.2 &  82.8 & no \\\\\n",
       "\tOklahoma & 182 & 35.5 &  97.2 & no \\\\\n",
       "\tOregon & 136 & 44.0 & 120.5 & yes\\\\\n",
       "\tPennsylvania & 132 & 40.8 &  77.8 & no \\\\\n",
       "\tRhode Island & 137 & 41.8 &  71.5 & yes\\\\\n",
       "\tSouth Carolina & 178 & 33.8 &  81.0 & yes\\\\\n",
       "\tSouth Dakota &  86 & 44.8 & 100.0 & no \\\\\n",
       "\tTennessee & 186 & 36.0 &  86.2 & no \\\\\n",
       "\tTexas & 229 & 31.5 &  98.0 & yes\\\\\n",
       "\tUtah & 142 & 39.5 & 111.5 & no \\\\\n",
       "\tVermont & 153 & 44.0 &  72.5 & yes\\\\\n",
       "\tVirginia & 166 & 37.5 &  78.5 & yes\\\\\n",
       "\tWashington & 117 & 47.5 & 121.0 & yes\\\\\n",
       "\tWest Virginia & 136 & 38.8 &  80.8 & no \\\\\n",
       "\tWisconsin & 110 & 44.5 &  90.2 & no \\\\\n",
       "\tWyoming & 134 & 43.0 & 107.5 & no \\\\\n",
       "\\end{tabular}\n"
      ],
      "text/markdown": [
       "\n",
       "A data.frame: 49 × 4\n",
       "\n",
       "| <!--/--> | mortality &lt;int&gt; | latitude &lt;dbl&gt; | longitude &lt;dbl&gt; | ocean &lt;chr&gt; |\n",
       "|---|---|---|---|---|\n",
       "| Alabama | 219 | 33.0 |  87.0 | yes |\n",
       "| Arizona | 160 | 34.5 | 112.0 | no  |\n",
       "| Arkansas | 170 | 35.0 |  92.5 | no  |\n",
       "| California | 182 | 37.5 | 119.5 | yes |\n",
       "| Colorado | 149 | 39.0 | 105.5 | no  |\n",
       "| Connecticut | 159 | 41.8 |  72.8 | yes |\n",
       "| Delaware | 200 | 39.0 |  75.5 | yes |\n",
       "| District of Columbia | 177 | 39.0 |  77.0 | no  |\n",
       "| Florida | 197 | 28.0 |  82.0 | yes |\n",
       "| Georgia | 214 | 33.0 |  83.5 | yes |\n",
       "| Idaho | 116 | 44.5 | 114.0 | no  |\n",
       "| Illinois | 124 | 40.0 |  89.5 | no  |\n",
       "| Indiana | 128 | 40.2 |  86.2 | no  |\n",
       "| Iowa | 128 | 42.2 |  93.8 | no  |\n",
       "| Kansas | 166 | 38.5 |  98.5 | no  |\n",
       "| Kentucky | 147 | 37.8 |  85.0 | no  |\n",
       "| Louisiana | 190 | 31.2 |  91.8 | yes |\n",
       "| Maine | 117 | 45.2 |  69.0 | yes |\n",
       "| Maryland | 162 | 39.0 |  76.5 | yes |\n",
       "| Massachusetts | 143 | 42.2 |  71.8 | yes |\n",
       "| Michigan | 117 | 43.5 |  84.5 | no  |\n",
       "| Minnesota | 116 | 46.0 |  94.5 | no  |\n",
       "| Mississippi | 207 | 32.8 |  90.0 | yes |\n",
       "| Missouri | 131 | 38.5 |  92.0 | no  |\n",
       "| Montana | 109 | 47.0 | 110.5 | no  |\n",
       "| Nebraska | 122 | 41.5 |  99.5 | no  |\n",
       "| Nevada | 191 | 39.0 | 117.0 | no  |\n",
       "| New Hampshire | 129 | 43.8 |  71.5 | yes |\n",
       "| New Jersey | 159 | 40.2 |  74.5 | yes |\n",
       "| New Mexico | 141 | 35.0 | 106.0 | no  |\n",
       "| New York | 152 | 43.0 |  75.5 | yes |\n",
       "| North Carolina | 199 | 35.5 |  79.5 | yes |\n",
       "| North Dakota | 115 | 47.5 | 100.5 | no  |\n",
       "| Ohio | 131 | 40.2 |  82.8 | no  |\n",
       "| Oklahoma | 182 | 35.5 |  97.2 | no  |\n",
       "| Oregon | 136 | 44.0 | 120.5 | yes |\n",
       "| Pennsylvania | 132 | 40.8 |  77.8 | no  |\n",
       "| Rhode Island | 137 | 41.8 |  71.5 | yes |\n",
       "| South Carolina | 178 | 33.8 |  81.0 | yes |\n",
       "| South Dakota |  86 | 44.8 | 100.0 | no  |\n",
       "| Tennessee | 186 | 36.0 |  86.2 | no  |\n",
       "| Texas | 229 | 31.5 |  98.0 | yes |\n",
       "| Utah | 142 | 39.5 | 111.5 | no  |\n",
       "| Vermont | 153 | 44.0 |  72.5 | yes |\n",
       "| Virginia | 166 | 37.5 |  78.5 | yes |\n",
       "| Washington | 117 | 47.5 | 121.0 | yes |\n",
       "| West Virginia | 136 | 38.8 |  80.8 | no  |\n",
       "| Wisconsin | 110 | 44.5 |  90.2 | no  |\n",
       "| Wyoming | 134 | 43.0 | 107.5 | no  |\n",
       "\n"
      ],
      "text/plain": [
       "                     mortality latitude longitude ocean\n",
       "Alabama              219       33.0      87.0     yes  \n",
       "Arizona              160       34.5     112.0     no   \n",
       "Arkansas             170       35.0      92.5     no   \n",
       "California           182       37.5     119.5     yes  \n",
       "Colorado             149       39.0     105.5     no   \n",
       "Connecticut          159       41.8      72.8     yes  \n",
       "Delaware             200       39.0      75.5     yes  \n",
       "District of Columbia 177       39.0      77.0     no   \n",
       "Florida              197       28.0      82.0     yes  \n",
       "Georgia              214       33.0      83.5     yes  \n",
       "Idaho                116       44.5     114.0     no   \n",
       "Illinois             124       40.0      89.5     no   \n",
       "Indiana              128       40.2      86.2     no   \n",
       "Iowa                 128       42.2      93.8     no   \n",
       "Kansas               166       38.5      98.5     no   \n",
       "Kentucky             147       37.8      85.0     no   \n",
       "Louisiana            190       31.2      91.8     yes  \n",
       "Maine                117       45.2      69.0     yes  \n",
       "Maryland             162       39.0      76.5     yes  \n",
       "Massachusetts        143       42.2      71.8     yes  \n",
       "Michigan             117       43.5      84.5     no   \n",
       "Minnesota            116       46.0      94.5     no   \n",
       "Mississippi          207       32.8      90.0     yes  \n",
       "Missouri             131       38.5      92.0     no   \n",
       "Montana              109       47.0     110.5     no   \n",
       "Nebraska             122       41.5      99.5     no   \n",
       "Nevada               191       39.0     117.0     no   \n",
       "New Hampshire        129       43.8      71.5     yes  \n",
       "New Jersey           159       40.2      74.5     yes  \n",
       "New Mexico           141       35.0     106.0     no   \n",
       "New York             152       43.0      75.5     yes  \n",
       "North Carolina       199       35.5      79.5     yes  \n",
       "North Dakota         115       47.5     100.5     no   \n",
       "Ohio                 131       40.2      82.8     no   \n",
       "Oklahoma             182       35.5      97.2     no   \n",
       "Oregon               136       44.0     120.5     yes  \n",
       "Pennsylvania         132       40.8      77.8     no   \n",
       "Rhode Island         137       41.8      71.5     yes  \n",
       "South Carolina       178       33.8      81.0     yes  \n",
       "South Dakota          86       44.8     100.0     no   \n",
       "Tennessee            186       36.0      86.2     no   \n",
       "Texas                229       31.5      98.0     yes  \n",
       "Utah                 142       39.5     111.5     no   \n",
       "Vermont              153       44.0      72.5     yes  \n",
       "Virginia             166       37.5      78.5     yes  \n",
       "Washington           117       47.5     121.0     yes  \n",
       "West Virginia        136       38.8      80.8     no   \n",
       "Wisconsin            110       44.5      90.2     no   \n",
       "Wyoming              134       43.0     107.5     no   "
      ]
     },
     "metadata": {},
     "output_type": "display_data"
    },
    {
     "data": {
      "text/plain": [
       "   mortality        latitude       longitude         ocean          \n",
       " Min.   : 86.0   Min.   :28.00   Min.   : 69.00   Length:49         \n",
       " 1st Qu.:128.0   1st Qu.:36.00   1st Qu.: 78.50   Class :character  \n",
       " Median :147.0   Median :39.50   Median : 89.50   Mode  :character  \n",
       " Mean   :152.9   Mean   :39.53   Mean   : 90.94                     \n",
       " 3rd Qu.:178.0   3rd Qu.:43.00   3rd Qu.:100.00                     \n",
       " Max.   :229.0   Max.   :47.50   Max.   :121.00                     "
      ]
     },
     "metadata": {},
     "output_type": "display_data"
    }
   ],
   "source": [
    "# Read from file\n",
    "df <- read.table(\"data/USmelanoma.csv\")\n",
    "df\n",
    "summary(df)"
   ]
  },
  {
   "cell_type": "code",
   "execution_count": 13,
   "id": "c8bfec5e-0c1e-4246-971e-de7195f99674",
   "metadata": {
    "vscode": {
     "languageId": "r"
    }
   },
   "outputs": [
    {
     "data": {
      "text/html": [
       "<style>\n",
       ".list-inline {list-style: none; margin:0; padding: 0}\n",
       ".list-inline>li {display: inline-block}\n",
       ".list-inline>li:not(:last-child)::after {content: \"\\00b7\"; padding: 0 .5ex}\n",
       "</style>\n",
       "<ol class=list-inline><li>219</li><li>160</li><li>170</li><li>182</li><li>149</li><li>159</li><li>200</li><li>177</li><li>197</li><li>214</li><li>116</li><li>124</li><li>128</li><li>128</li><li>166</li><li>147</li><li>190</li><li>117</li><li>162</li><li>143</li><li>117</li><li>116</li><li>207</li><li>131</li><li>109</li><li>122</li><li>191</li><li>129</li><li>159</li><li>141</li><li>152</li><li>199</li><li>115</li><li>131</li><li>182</li><li>136</li><li>132</li><li>137</li><li>178</li><li>86</li><li>186</li><li>229</li><li>142</li><li>153</li><li>166</li><li>117</li><li>136</li><li>110</li><li>134</li></ol>\n"
      ],
      "text/latex": [
       "\\begin{enumerate*}\n",
       "\\item 219\n",
       "\\item 160\n",
       "\\item 170\n",
       "\\item 182\n",
       "\\item 149\n",
       "\\item 159\n",
       "\\item 200\n",
       "\\item 177\n",
       "\\item 197\n",
       "\\item 214\n",
       "\\item 116\n",
       "\\item 124\n",
       "\\item 128\n",
       "\\item 128\n",
       "\\item 166\n",
       "\\item 147\n",
       "\\item 190\n",
       "\\item 117\n",
       "\\item 162\n",
       "\\item 143\n",
       "\\item 117\n",
       "\\item 116\n",
       "\\item 207\n",
       "\\item 131\n",
       "\\item 109\n",
       "\\item 122\n",
       "\\item 191\n",
       "\\item 129\n",
       "\\item 159\n",
       "\\item 141\n",
       "\\item 152\n",
       "\\item 199\n",
       "\\item 115\n",
       "\\item 131\n",
       "\\item 182\n",
       "\\item 136\n",
       "\\item 132\n",
       "\\item 137\n",
       "\\item 178\n",
       "\\item 86\n",
       "\\item 186\n",
       "\\item 229\n",
       "\\item 142\n",
       "\\item 153\n",
       "\\item 166\n",
       "\\item 117\n",
       "\\item 136\n",
       "\\item 110\n",
       "\\item 134\n",
       "\\end{enumerate*}\n"
      ],
      "text/markdown": [
       "1. 219\n",
       "2. 160\n",
       "3. 170\n",
       "4. 182\n",
       "5. 149\n",
       "6. 159\n",
       "7. 200\n",
       "8. 177\n",
       "9. 197\n",
       "10. 214\n",
       "11. 116\n",
       "12. 124\n",
       "13. 128\n",
       "14. 128\n",
       "15. 166\n",
       "16. 147\n",
       "17. 190\n",
       "18. 117\n",
       "19. 162\n",
       "20. 143\n",
       "21. 117\n",
       "22. 116\n",
       "23. 207\n",
       "24. 131\n",
       "25. 109\n",
       "26. 122\n",
       "27. 191\n",
       "28. 129\n",
       "29. 159\n",
       "30. 141\n",
       "31. 152\n",
       "32. 199\n",
       "33. 115\n",
       "34. 131\n",
       "35. 182\n",
       "36. 136\n",
       "37. 132\n",
       "38. 137\n",
       "39. 178\n",
       "40. 86\n",
       "41. 186\n",
       "42. 229\n",
       "43. 142\n",
       "44. 153\n",
       "45. 166\n",
       "46. 117\n",
       "47. 136\n",
       "48. 110\n",
       "49. 134\n",
       "\n",
       "\n"
      ],
      "text/plain": [
       " [1] 219 160 170 182 149 159 200 177 197 214 116 124 128 128 166 147 190 117 162\n",
       "[20] 143 117 116 207 131 109 122 191 129 159 141 152 199 115 131 182 136 132 137\n",
       "[39] 178  86 186 229 142 153 166 117 136 110 134"
      ]
     },
     "metadata": {},
     "output_type": "display_data"
    },
    {
     "data": {
      "text/html": [
       "<style>\n",
       ".list-inline {list-style: none; margin:0; padding: 0}\n",
       ".list-inline>li {display: inline-block}\n",
       ".list-inline>li:not(:last-child)::after {content: \"\\00b7\"; padding: 0 .5ex}\n",
       "</style>\n",
       "<ol class=list-inline><li>33</li><li>34.5</li><li>35</li><li>37.5</li><li>39</li><li>41.8</li><li>39</li><li>39</li><li>28</li><li>33</li><li>44.5</li><li>40</li><li>40.2</li><li>42.2</li><li>38.5</li><li>37.8</li><li>31.2</li><li>45.2</li><li>39</li><li>42.2</li><li>43.5</li><li>46</li><li>32.8</li><li>38.5</li><li>47</li><li>41.5</li><li>39</li><li>43.8</li><li>40.2</li><li>35</li><li>43</li><li>35.5</li><li>47.5</li><li>40.2</li><li>35.5</li><li>44</li><li>40.8</li><li>41.8</li><li>33.8</li><li>44.8</li><li>36</li><li>31.5</li><li>39.5</li><li>44</li><li>37.5</li><li>47.5</li><li>38.8</li><li>44.5</li><li>43</li></ol>\n"
      ],
      "text/latex": [
       "\\begin{enumerate*}\n",
       "\\item 33\n",
       "\\item 34.5\n",
       "\\item 35\n",
       "\\item 37.5\n",
       "\\item 39\n",
       "\\item 41.8\n",
       "\\item 39\n",
       "\\item 39\n",
       "\\item 28\n",
       "\\item 33\n",
       "\\item 44.5\n",
       "\\item 40\n",
       "\\item 40.2\n",
       "\\item 42.2\n",
       "\\item 38.5\n",
       "\\item 37.8\n",
       "\\item 31.2\n",
       "\\item 45.2\n",
       "\\item 39\n",
       "\\item 42.2\n",
       "\\item 43.5\n",
       "\\item 46\n",
       "\\item 32.8\n",
       "\\item 38.5\n",
       "\\item 47\n",
       "\\item 41.5\n",
       "\\item 39\n",
       "\\item 43.8\n",
       "\\item 40.2\n",
       "\\item 35\n",
       "\\item 43\n",
       "\\item 35.5\n",
       "\\item 47.5\n",
       "\\item 40.2\n",
       "\\item 35.5\n",
       "\\item 44\n",
       "\\item 40.8\n",
       "\\item 41.8\n",
       "\\item 33.8\n",
       "\\item 44.8\n",
       "\\item 36\n",
       "\\item 31.5\n",
       "\\item 39.5\n",
       "\\item 44\n",
       "\\item 37.5\n",
       "\\item 47.5\n",
       "\\item 38.8\n",
       "\\item 44.5\n",
       "\\item 43\n",
       "\\end{enumerate*}\n"
      ],
      "text/markdown": [
       "1. 33\n",
       "2. 34.5\n",
       "3. 35\n",
       "4. 37.5\n",
       "5. 39\n",
       "6. 41.8\n",
       "7. 39\n",
       "8. 39\n",
       "9. 28\n",
       "10. 33\n",
       "11. 44.5\n",
       "12. 40\n",
       "13. 40.2\n",
       "14. 42.2\n",
       "15. 38.5\n",
       "16. 37.8\n",
       "17. 31.2\n",
       "18. 45.2\n",
       "19. 39\n",
       "20. 42.2\n",
       "21. 43.5\n",
       "22. 46\n",
       "23. 32.8\n",
       "24. 38.5\n",
       "25. 47\n",
       "26. 41.5\n",
       "27. 39\n",
       "28. 43.8\n",
       "29. 40.2\n",
       "30. 35\n",
       "31. 43\n",
       "32. 35.5\n",
       "33. 47.5\n",
       "34. 40.2\n",
       "35. 35.5\n",
       "36. 44\n",
       "37. 40.8\n",
       "38. 41.8\n",
       "39. 33.8\n",
       "40. 44.8\n",
       "41. 36\n",
       "42. 31.5\n",
       "43. 39.5\n",
       "44. 44\n",
       "45. 37.5\n",
       "46. 47.5\n",
       "47. 38.8\n",
       "48. 44.5\n",
       "49. 43\n",
       "\n",
       "\n"
      ],
      "text/plain": [
       " [1] 33.0 34.5 35.0 37.5 39.0 41.8 39.0 39.0 28.0 33.0 44.5 40.0 40.2 42.2 38.5\n",
       "[16] 37.8 31.2 45.2 39.0 42.2 43.5 46.0 32.8 38.5 47.0 41.5 39.0 43.8 40.2 35.0\n",
       "[31] 43.0 35.5 47.5 40.2 35.5 44.0 40.8 41.8 33.8 44.8 36.0 31.5 39.5 44.0 37.5\n",
       "[46] 47.5 38.8 44.5 43.0"
      ]
     },
     "metadata": {},
     "output_type": "display_data"
    },
    {
     "data": {
      "text/plain": [
       "NULL"
      ]
     },
     "metadata": {},
     "output_type": "display_data"
    }
   ],
   "source": [
    "df$mortality\n",
    "df$latitude\n",
    "df$ge ## partial name matching"
   ]
  },
  {
   "cell_type": "code",
   "execution_count": 14,
   "id": "dd2954da-830b-408b-8f7e-afe91ab3145b",
   "metadata": {
    "editable": true,
    "slideshow": {
     "slide_type": ""
    },
    "tags": [],
    "vscode": {
     "languageId": "r"
    }
   },
   "outputs": [
    {
     "data": {
      "image/png": "[encoded data removed]",
      "text/plain": [
       "plot without title"
      ]
     },
     "metadata": {
      "image/png": {
       "height": 420,
       "width": 420
      }
     },
     "output_type": "display_data"
    }
   ],
   "source": [
    "# Consider the data set USmelanoma from Seminar 1d,\n",
    "# how do you generate a parallel boxplot in vertical orientation\n",
    "# (i.e. the metric variable on they-axis) that contrasts\n",
    "# the mortality rate between ocean states with non-ocean states?\n",
    "\n",
    "ggplot(data = df, mapping = aes(x = ocean, y = mortality)) +\n",
    "  geom_boxplot() +\n",
    "  labs(x = \"Contiguous to an ocean?\", y = \"Mortality Rate\")"
   ]
  },
  {
   "cell_type": "code",
   "execution_count": 15,
   "id": "ac9da441-5cc5-43da-b5a1-ae42c3f2ec40",
   "metadata": {
    "editable": true,
    "slideshow": {
     "slide_type": ""
    },
    "tags": [],
    "vscode": {
     "languageId": "r"
    }
   },
   "outputs": [
    {
     "data": {
      "image/png": "[encoded data removed]",
      "text/plain": [
       "plot without title"
      ]
     },
     "metadata": {
      "image/png": {
       "height": 420,
       "width": 420
      }
     },
     "output_type": "display_data"
    }
   ],
   "source": [
    "# common elements for the plots\n",
    "ggp <- ggplot(data = df, aes(x = mortality)) +\n",
    "  xlim(80.5, 234.5)\n",
    "\n",
    "ggbp <- ggp + geom_boxplot() + labs(x = NULL)\n",
    "\n",
    "gghist <- ggp +\n",
    "  geom_histogram(mapping = aes(y = after_stat(density)), binwidth = 7) +\n",
    "  geom_density(colour = \"red\")\n",
    "\n",
    "# package patchwork provides function plot_layout\n",
    "# install it first if not done yet for your R-installation\n",
    "ggbp + gghist +\n",
    "  plot_layout(nrow = 2, heights = c(1, 4))"
   ]
  },
  {
   "cell_type": "markdown",
   "id": "8ad83ee0-c6f6-4b1e-9871-e915d6ae241e",
   "metadata": {},
   "source": [
    "## Sampling"
   ]
  },
  {
   "cell_type": "code",
   "execution_count": 17,
   "id": "faa82b93-d76a-434d-9072-30ced3d12ddf",
   "metadata": {
    "vscode": {
     "languageId": "r"
    }
   },
   "outputs": [],
   "source": [
    "library(\"ggplot2\")\n",
    "\n",
    "## Density function for a normally distributed random variable\n",
    "f_den <- function(x, u = 52, ss = 4) {\n",
    "  1 / (sqrt(2 * pi * (ss))) * exp(-((x - u)^2) / (2 * (ss)))\n",
    "}"
   ]
  },
  {
   "cell_type": "code",
   "execution_count": 18,
   "id": "bb3d7184-3796-474f-9c18-a23f2efd852c",
   "metadata": {
    "vscode": {
     "languageId": "r"
    }
   },
   "outputs": [
    {
     "data": {
      "text/html": [
       "0.17603266338215"
      ],
      "text/latex": [
       "0.17603266338215"
      ],
      "text/markdown": [
       "0.17603266338215"
      ],
      "text/plain": [
       "[1] 0.1760327"
      ]
     },
     "metadata": {},
     "output_type": "display_data"
    },
    {
     "data": {
      "image/png": "[encoded data removed]",
      "text/plain": [
       "plot without title"
      ]
     },
     "metadata": {
      "image/png": {
       "height": 420,
       "width": 420
      }
     },
     "output_type": "display_data"
    }
   ],
   "source": [
    "# The activity of the protein catalase in healthy\n",
    "# murine liver cells (measured in enzyme units) under some fixed\n",
    "# conditions can be modelled as normally distributed with expectation 𝜇=52\n",
    "# and variance 𝜎2=4 (cf. Seminar 1a). The density function 𝑓 of this normal \n",
    "# distribution at the value 𝑥=53 evaluates to ??.\n",
    "\n",
    "f_den(53, 52, 4)\n",
    "x <- c(30:60)\n",
    "plot(f_den(x) ~ x)"
   ]
  },
  {
   "cell_type": "code",
   "execution_count": 19,
   "id": "ddc53336-5e06-4c34-b722-f50d6e87d039",
   "metadata": {
    "vscode": {
     "languageId": "r"
    }
   },
   "outputs": [
    {
     "data": {
      "text/html": [
       "<style>\n",
       ".list-inline {list-style: none; margin:0; padding: 0}\n",
       ".list-inline>li {display: inline-block}\n",
       ".list-inline>li:not(:last-child)::after {content: \"\\00b7\"; padding: 0 .5ex}\n",
       "</style>\n",
       "<ol class=list-inline><li>0.00876415024678427</li><li>0.120985362259572</li><li>0.199471140200716</li><li>0.120985362259572</li><li>0.0647587978329459</li></ol>\n"
      ],
      "text/latex": [
       "\\begin{enumerate*}\n",
       "\\item 0.00876415024678427\n",
       "\\item 0.120985362259572\n",
       "\\item 0.199471140200716\n",
       "\\item 0.120985362259572\n",
       "\\item 0.0647587978329459\n",
       "\\end{enumerate*}\n"
      ],
      "text/markdown": [
       "1. 0.00876415024678427\n",
       "2. 0.120985362259572\n",
       "3. 0.199471140200716\n",
       "4. 0.120985362259572\n",
       "5. 0.0647587978329459\n",
       "\n",
       "\n"
      ],
      "text/plain": [
       "[1] 0.00876415 0.12098536 0.19947114 0.12098536 0.06475880"
      ]
     },
     "metadata": {},
     "output_type": "display_data"
    }
   ],
   "source": [
    "# Test\n",
    "f_den(c(47, 50, 52, 54, 55), 52, 4)"
   ]
  },
  {
   "cell_type": "code",
   "execution_count": 20,
   "id": "3cfde102-1ec9-4457-9074-144355fddff5",
   "metadata": {
    "vscode": {
     "languageId": "r"
    }
   },
   "outputs": [
    {
     "data": {
      "text/plain": [
       "0.8413447 with absolute error < 3.3e-06"
      ]
     },
     "metadata": {},
     "output_type": "display_data"
    },
    {
     "data": {
      "text/plain": [
       "0.9544997 with absolute error < 1.8e-11"
      ]
     },
     "metadata": {},
     "output_type": "display_data"
    }
   ],
   "source": [
    "## Probability is the area under the density curve\n",
    "\n",
    "# The probability that the protein activity less than 54 is\n",
    "integrate(f_den, 0, 54)\n",
    "\n",
    "# The probability that the protein activity has a value between 48 and 56 is ??\n",
    "integrate(f_den, 48, 56)"
   ]
  },
  {
   "cell_type": "code",
   "execution_count": 23,
   "id": "bf43b542-a18a-4cf7-b885-57c2e00246c8",
   "metadata": {
    "vscode": {
     "languageId": "r"
    }
   },
   "outputs": [
    {
     "data": {
      "text/html": [
       "52.3890884514794"
      ],
      "text/latex": [
       "52.3890884514794"
      ],
      "text/markdown": [
       "52.3890884514794"
      ],
      "text/plain": [
       "[1] 52.38909"
      ]
     },
     "metadata": {},
     "output_type": "display_data"
    },
    {
     "data": {
      "text/html": [
       "4.5424777463823"
      ],
      "text/latex": [
       "4.5424777463823"
      ],
      "text/markdown": [
       "4.5424777463823"
      ],
      "text/plain": [
       "[1] 4.542478"
      ]
     },
     "metadata": {},
     "output_type": "display_data"
    }
   ],
   "source": [
    "## Taking Samples\n",
    "\n",
    "# In the seminar (cf. Seminar 1a) you have generated a sample of data in R\n",
    "# from the assumed normal distribution via the commands:\n",
    "set.seed(12345)\n",
    "x <- rnorm(57, mean = 52, sd = 2)\n",
    "\n",
    "# Mean\n",
    "# The mean of the sample data in vector x is ??\n",
    "mean(x)\n",
    "\n",
    "# Variance\n",
    "# The variance of the sample data in vector x is ??\n",
    "var(x)"
   ]
  }
 ],
 "metadata": {
  "kernelspec": {
   "display_name": "R",
   "language": "R",
   "name": "ir"
  },
  "language_info": {
   "codemirror_mode": "r",
   "file_extension": ".r",
   "mimetype": "text/x-r-source",
   "name": "R",
   "pygments_lexer": "r",
   "version": "4.3.1"
  }
 },
 "nbformat": 4,
 "nbformat_minor": 5
}
